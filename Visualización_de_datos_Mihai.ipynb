{
  "nbformat": 4,
  "nbformat_minor": 0,
  "metadata": {
    "colab": {
      "name": "Visualización_de_datos_Mihai.ipynb",
      "provenance": [],
      "collapsed_sections": []
    },
    "kernelspec": {
      "name": "python3",
      "display_name": "Python 3"
    },
    "language_info": {
      "name": "python"
    }
  },
  "cells": [
    {
      "cell_type": "code",
      "execution_count": 50,
      "metadata": {
        "colab": {
          "base_uri": "https://localhost:8080/"
        },
        "id": "wA-0V5q6Paqy",
        "outputId": "56c3b48a-ce1d-4154-b695-2bc57f9517ed"
      },
      "outputs": [
        {
          "output_type": "stream",
          "name": "stdout",
          "text": [
            "Drive already mounted at /content/drive; to attempt to forcibly remount, call drive.mount(\"/content/drive\", force_remount=True).\n"
          ]
        }
      ],
      "source": [
        "from google.colab import drive\n",
        "drive.mount('/content/drive')"
      ]
    },
    {
      "cell_type": "code",
      "source": [
        "# En este notebook representare las montañas más altas del mundo, rios rios mñas largos del mundo y de españa y, por último, el cámino de Santiago desde Roma"
      ],
      "metadata": {
        "id": "e9QxGoSWx328"
      },
      "execution_count": 51,
      "outputs": []
    },
    {
      "cell_type": "code",
      "source": [
        "# En primer lugar habrá que instalar e importar las liberiras necesarias"
      ],
      "metadata": {
        "id": "VpsbOC58xbXG"
      },
      "execution_count": 52,
      "outputs": []
    },
    {
      "cell_type": "code",
      "source": [
        "pip install geopandas"
      ],
      "metadata": {
        "colab": {
          "base_uri": "https://localhost:8080/"
        },
        "id": "GVNEonCQRtwI",
        "outputId": "daf24214-cf77-4992-a1b8-6c6e8ef66692"
      },
      "execution_count": 53,
      "outputs": [
        {
          "output_type": "stream",
          "name": "stdout",
          "text": [
            "Requirement already satisfied: geopandas in /usr/local/lib/python3.7/dist-packages (0.10.2)\n",
            "Requirement already satisfied: pandas>=0.25.0 in /usr/local/lib/python3.7/dist-packages (from geopandas) (1.3.5)\n",
            "Requirement already satisfied: shapely>=1.6 in /usr/local/lib/python3.7/dist-packages (from geopandas) (1.8.1.post1)\n",
            "Requirement already satisfied: pyproj>=2.2.0 in /usr/local/lib/python3.7/dist-packages (from geopandas) (3.2.1)\n",
            "Requirement already satisfied: fiona>=1.8 in /usr/local/lib/python3.7/dist-packages (from geopandas) (1.8.21)\n",
            "Requirement already satisfied: certifi in /usr/local/lib/python3.7/dist-packages (from fiona>=1.8->geopandas) (2021.10.8)\n",
            "Requirement already satisfied: attrs>=17 in /usr/local/lib/python3.7/dist-packages (from fiona>=1.8->geopandas) (21.4.0)\n",
            "Requirement already satisfied: click-plugins>=1.0 in /usr/local/lib/python3.7/dist-packages (from fiona>=1.8->geopandas) (1.1.1)\n",
            "Requirement already satisfied: setuptools in /usr/local/lib/python3.7/dist-packages (from fiona>=1.8->geopandas) (57.4.0)\n",
            "Requirement already satisfied: click>=4.0 in /usr/local/lib/python3.7/dist-packages (from fiona>=1.8->geopandas) (7.1.2)\n",
            "Requirement already satisfied: six>=1.7 in /usr/local/lib/python3.7/dist-packages (from fiona>=1.8->geopandas) (1.15.0)\n",
            "Requirement already satisfied: munch in /usr/local/lib/python3.7/dist-packages (from fiona>=1.8->geopandas) (2.5.0)\n",
            "Requirement already satisfied: cligj>=0.5 in /usr/local/lib/python3.7/dist-packages (from fiona>=1.8->geopandas) (0.7.2)\n",
            "Requirement already satisfied: numpy>=1.17.3 in /usr/local/lib/python3.7/dist-packages (from pandas>=0.25.0->geopandas) (1.21.5)\n",
            "Requirement already satisfied: pytz>=2017.3 in /usr/local/lib/python3.7/dist-packages (from pandas>=0.25.0->geopandas) (2018.9)\n",
            "Requirement already satisfied: python-dateutil>=2.7.3 in /usr/local/lib/python3.7/dist-packages (from pandas>=0.25.0->geopandas) (2.8.2)\n"
          ]
        }
      ]
    },
    {
      "cell_type": "code",
      "source": [
        "pip install gpxpy "
      ],
      "metadata": {
        "colab": {
          "base_uri": "https://localhost:8080/"
        },
        "id": "932fHugRvUXp",
        "outputId": "3838d69f-6bce-461c-a960-73e2f3cbe18a"
      },
      "execution_count": 54,
      "outputs": [
        {
          "output_type": "stream",
          "name": "stdout",
          "text": [
            "Requirement already satisfied: gpxpy in /usr/local/lib/python3.7/dist-packages (1.5.0)\n"
          ]
        }
      ]
    },
    {
      "cell_type": "code",
      "source": [
        "import geopandas as gpd\n",
        "import folium\n",
        "import pandas as pd\n",
        "from folium.plugins import MarkerCluster\n",
        "import gpxpy\n",
        "import os"
      ],
      "metadata": {
        "id": "GTcW2qr4Raap"
      },
      "execution_count": 55,
      "outputs": []
    },
    {
      "cell_type": "code",
      "source": [
        "#Cargo el shp de todos los países del mundo\n",
        "#https://www.efrainmaps.es/descargas-gratuitas/mundo/"
      ],
      "metadata": {
        "id": "9hBMgIRwxiZ0"
      },
      "execution_count": 56,
      "outputs": []
    },
    {
      "cell_type": "code",
      "source": [
        "df_mundo = gpd.read_file('/content/drive/MyDrive/COLAB/BDA/Paises_Mundo/Paises_Mundo.shp')\n",
        "df_mundo.head(5)#muestro los 5 primeros paises"
      ],
      "metadata": {
        "id": "WaQBD7ljRzKP"
      },
      "execution_count": null,
      "outputs": []
    },
    {
      "cell_type": "code",
      "source": [
        "df_mundo.plot(figsize=(15,30))"
      ],
      "metadata": {
        "id": "dO4UejDlSE0o"
      },
      "execution_count": null,
      "outputs": []
    },
    {
      "cell_type": "code",
      "source": [
        "#Cargo el de los ríos del mundo\n",
        "#https://www.efrainmaps.es/descargas-gratuitas/mundo/"
      ],
      "metadata": {
        "id": "Zl021u6yXwo4"
      },
      "execution_count": 59,
      "outputs": []
    },
    {
      "cell_type": "code",
      "source": [
        "df_rios = gpd.read_file('/content/drive/MyDrive/COLAB/BDA/Hidrografia_Mundo/Hidrografia_Mundo.shp')\n",
        "df_rios.head(5)"
      ],
      "metadata": {
        "id": "7ra_kuaBeVeP"
      },
      "execution_count": null,
      "outputs": []
    },
    {
      "cell_type": "code",
      "source": [
        "#Asigno un color diferente para los países y los ríos"
      ],
      "metadata": {
        "id": "bF_eYmrPyUmw"
      },
      "execution_count": 61,
      "outputs": []
    },
    {
      "cell_type": "code",
      "source": [
        "style1 = {'fillColor': 'grey', 'color': 'grey'}#paises\n",
        "style2 = {'fillColor': '#00FFFFFF', 'color': '#00FFFFFF'}#rios"
      ],
      "metadata": {
        "id": "cX146IT7fe5q"
      },
      "execution_count": 62,
      "outputs": []
    },
    {
      "cell_type": "code",
      "source": [
        "m = folium.Map(location=[43, -8.20],zoom_start=2)\n",
        "\n",
        "folium.GeoJson(df_mundo,name=\"paises\", style_function=lambda x:style1).add_to(m)#cargo los shp\n",
        "folium.GeoJson(df_rios,name=\"rios\", style_function=lambda x:style2).add_to(m)\n",
        "folium.LayerControl().add_to(m)\n",
        "m"
      ],
      "metadata": {
        "id": "TL_qDRUWSUoQ"
      },
      "execution_count": null,
      "outputs": []
    },
    {
      "cell_type": "code",
      "source": [
        "#Cargo el de las montañas más grandes\n",
        "#https://www.kaggle.com/datasets/keagle/mountains-dataset-with-coordinates-and-countries"
      ],
      "metadata": {
        "id": "uxupuZOmycls"
      },
      "execution_count": 64,
      "outputs": []
    },
    {
      "cell_type": "code",
      "source": [
        "df_montañas = gpd.read_file('/content/drive/MyDrive/COLAB/BDA/archive/Top montains data.csv')"
      ],
      "metadata": {
        "id": "ECL6Mp2ZWydE"
      },
      "execution_count": 65,
      "outputs": []
    },
    {
      "cell_type": "code",
      "source": [
        "df_montañas.head(5)"
      ],
      "metadata": {
        "id": "114BGRCLxPdF"
      },
      "execution_count": null,
      "outputs": []
    },
    {
      "cell_type": "code",
      "source": [
        "#Guardo sus nombres"
      ],
      "metadata": {
        "id": "bvJImP2vyoLM"
      },
      "execution_count": 67,
      "outputs": []
    },
    {
      "cell_type": "code",
      "source": [
        "montes=df_montañas[\"Parent mountain\"].unique()"
      ],
      "metadata": {
        "id": "yPdy7qeUj7LS"
      },
      "execution_count": 68,
      "outputs": []
    },
    {
      "cell_type": "code",
      "source": [
        "#Lo convierto en un dataframe"
      ],
      "metadata": {
        "id": "9jNU2RkbyqI5"
      },
      "execution_count": 69,
      "outputs": []
    },
    {
      "cell_type": "code",
      "source": [
        "df_montes = pd.DataFrame(montes, columns = ['montañas'])"
      ],
      "metadata": {
        "id": "f-TSTw6dlBtp"
      },
      "execution_count": 70,
      "outputs": []
    },
    {
      "cell_type": "code",
      "source": [
        "#Corrijo algunos errores del dataframe"
      ],
      "metadata": {
        "id": "gG7Cj1EgytTC"
      },
      "execution_count": 71,
      "outputs": []
    },
    {
      "cell_type": "code",
      "source": [
        "df_montes=df_montes.drop([0,41,45,37],axis=0)\n",
        "df_montes=df_montes.reset_index()\n",
        "df_montes=df_montes.replace({\"Khunyang Chhish\": \"Kunyang Chhish\"})\n",
        "df_montes=df_montes.replace({\"Labuche Himilaya\": \"Lobuche\"})\n",
        "df_montes=df_montes.drop([\"index\"],axis=1)"
      ],
      "metadata": {
        "id": "ixl2EfajnJlc"
      },
      "execution_count": 72,
      "outputs": []
    },
    {
      "cell_type": "code",
      "source": [
        "#Mediante la API de Nominatium consigo los coordenadas de esas montañas y las guardo en el dataframe"
      ],
      "metadata": {
        "id": "YVoUsS24y3DU"
      },
      "execution_count": 73,
      "outputs": []
    },
    {
      "cell_type": "code",
      "source": [
        "import requests\n",
        "datos_montes=[]\n",
        "for n in range (1,47):\n",
        "  busqueda = df_montes[\"montañas\"][n]\n",
        "\n",
        "  search_url = 'https://nominatim.openstreetmap.org/search'\n",
        "  payload = {'q': busqueda ,'format':'json'}\n",
        "\n",
        "  search_response = requests.get(search_url,params=payload)\n",
        "\n",
        "  latitude = search_response.json()[0]['lat']\n",
        "  longitude = search_response.json()[0]['lon']\n",
        "\n",
        "  datos_montes.append([df_montes[\"montañas\"][n],latitude+\",\"+longitude])\n",
        "\n",
        "datos_montes = pd.DataFrame(datos_montes,columns=['nome','coordenadas'])"
      ],
      "metadata": {
        "id": "t6gH-dRmllNS"
      },
      "execution_count": 74,
      "outputs": []
    },
    {
      "cell_type": "code",
      "source": [
        "datos_montes"
      ],
      "metadata": {
        "id": "EDs4db7Wlq8o"
      },
      "execution_count": null,
      "outputs": []
    },
    {
      "cell_type": "code",
      "source": [
        "#Veo si está todo bien, es curioso que todas las montañas más altas del mundo se encuentren en la misma zona"
      ],
      "metadata": {
        "id": "XwA5v_iEzExD"
      },
      "execution_count": 76,
      "outputs": []
    },
    {
      "cell_type": "code",
      "source": [
        "m = folium.Map(location=[43, -8.20],zoom_start=2)\n",
        "\n",
        "folium.GeoJson(df_mundo,name=\"paises\", style_function=lambda x:style1).add_to(m)#aplico los shp\n",
        "folium.GeoJson(df_rios,name=\"rios\", style_function=lambda x:style2).add_to(m)\n",
        "\n",
        "\n",
        "marker_cluster = MarkerCluster().add_to(m)\n",
        "for n in range (0,46):#aplico los datos obtenidos en un bucle\n",
        "  lat=datos_montes.coordenadas[n].split(\",\")[0]\n",
        "  long=datos_montes[\"coordenadas\"][n].split(\",\")[1]\n",
        "  lat=float(lat)\n",
        "  long=float(long)\n",
        "  folium.Marker([lat,long],popup=(f'{datos_montes.nome[n]}'),icon=folium.Icon(color='gray',icon=\"glyphicon-pushpin\")).add_to(marker_cluster)#añado las marcas al clúster\n",
        "    \n",
        "folium.LayerControl().add_to(m)\n",
        "m"
      ],
      "metadata": {
        "id": "d3KVb457kcRY"
      },
      "execution_count": null,
      "outputs": []
    },
    {
      "cell_type": "code",
      "source": [
        "# Cargo el shp de todos los ríos de España\n",
        "#https://www.mapa.gob.es/ide/metadatos/srv/spa/metadata.show?uuid=8e2570cd-7d55-46f0-877d-e69ff251abc8"
      ],
      "metadata": {
        "id": "UhwFMIYhzQHC"
      },
      "execution_count": 78,
      "outputs": []
    },
    {
      "cell_type": "code",
      "source": [
        "df_rios_es = gpd.read_file('//content/drive/MyDrive/COLAB/BDA/Rios A3_tcm30-176007/A3RIOS.shp')\n",
        "df_rios_es.head(5)"
      ],
      "metadata": {
        "id": "WO1o0FDyl_nL"
      },
      "execution_count": null,
      "outputs": []
    },
    {
      "cell_type": "code",
      "source": [
        "len(df_rios_es)"
      ],
      "metadata": {
        "colab": {
          "base_uri": "https://localhost:8080/"
        },
        "id": "vnjUzDvdpRKH",
        "outputId": "ac014c5f-b7b7-4c8f-d50b-a56a25fa210f"
      },
      "execution_count": 80,
      "outputs": [
        {
          "output_type": "execute_result",
          "data": {
            "text/plain": [
              "359"
            ]
          },
          "metadata": {},
          "execution_count": 80
        }
      ]
    },
    {
      "cell_type": "code",
      "source": [
        "#Ordeno los ríos según su longitud"
      ],
      "metadata": {
        "id": "aWIqfovOzY6W"
      },
      "execution_count": 81,
      "outputs": []
    },
    {
      "cell_type": "code",
      "source": [
        "by_leng = df_rios_es.sort_values('Shape_Leng')"
      ],
      "metadata": {
        "id": "plEgDlpkoxjN"
      },
      "execution_count": 82,
      "outputs": []
    },
    {
      "cell_type": "code",
      "source": [
        "#Me quedo con los 20 más largos"
      ],
      "metadata": {
        "id": "bOtYgflRzYD9"
      },
      "execution_count": 83,
      "outputs": []
    },
    {
      "cell_type": "code",
      "source": [
        "top_rios_es=by_leng[-20:]"
      ],
      "metadata": {
        "id": "UHZ_wX_Ko2JD"
      },
      "execution_count": 84,
      "outputs": []
    },
    {
      "cell_type": "code",
      "source": [
        "m = folium.Map(location=[43, -8.20],zoom_start=2)\n",
        "\n",
        "folium.GeoJson(df_mundo,name=\"paises\", style_function=lambda x:style1).add_to(m)\n",
        "folium.GeoJson(df_rios,name=\"rios\", style_function=lambda x:style2).add_to(m)\n",
        "folium.GeoJson(top_rios_es).add_to(m)\n",
        "\n",
        "marker_cluster = MarkerCluster().add_to(m)\n",
        "for n in range (0,46):\n",
        "  lat=datos_montes.coordenadas[n].split(\",\")[0]\n",
        "  long=datos_montes[\"coordenadas\"][n].split(\",\")[1]\n",
        "  lat=float(lat)\n",
        "  long=float(long)\n",
        "  folium.Marker([lat,long],popup=(f'{datos_montes.nome[n]}'),icon=folium.Icon(color='gray',icon=\"glyphicon-pushpin\")).add_to(marker_cluster)\n",
        "    \n",
        "folium.LayerControl().add_to(m)\n",
        "m"
      ],
      "metadata": {
        "id": "4VuZ184giIwu"
      },
      "execution_count": null,
      "outputs": []
    },
    {
      "cell_type": "code",
      "source": [
        "# AMPLIACIÓN\n",
        "#Mediante esta función gurado los puntos que obtengo del .gpx para posteriormente usarlos en el mapa"
      ],
      "metadata": {
        "id": "pyahbJraziba"
      },
      "execution_count": 86,
      "outputs": []
    },
    {
      "cell_type": "code",
      "source": [
        "def overlayGPX(gpxData):\n",
        "    gpx_file = open(gpxData, 'r')\n",
        "    gpx = gpxpy.parse(gpx_file)\n",
        "    points = []\n",
        "    for track in gpx.tracks:\n",
        "        for segment in track.segments:        \n",
        "            for point in segment.points:\n",
        "                points.append(tuple([point.latitude, point.longitude]))\n",
        "    return (points)"
      ],
      "metadata": {
        "id": "CLab0NDZiPnU"
      },
      "execution_count": 87,
      "outputs": []
    },
    {
      "cell_type": "code",
      "source": [
        "#Cargo el gpx y paso la función\n",
        "#https://www.rayyrosa.com/tracks"
      ],
      "metadata": {
        "id": "LLRNz39jzu1I"
      },
      "execution_count": 88,
      "outputs": []
    },
    {
      "cell_type": "code",
      "source": [
        "filePath = os.path.join(\"/content/drive/MyDrive/COLAB/BDA/ROMA-SANTIAGO-RAYYROSA.gpx\")\n",
        "puntos=overlayGPX(filePath)"
      ],
      "metadata": {
        "id": "QLaQm8owqo_g"
      },
      "execution_count": 89,
      "outputs": []
    },
    {
      "cell_type": "code",
      "source": [
        "#Resultado final"
      ],
      "metadata": {
        "id": "wxH5rZ3fz0Ex"
      },
      "execution_count": 90,
      "outputs": []
    },
    {
      "cell_type": "code",
      "source": [
        "m = folium.Map(location=[43, -8.20],zoom_start=2)\n",
        "\n",
        "folium.TileLayer('Stamen Terrain').add_to(m)\n",
        "folium.TileLayer('CartoDB Positron').add_to(m)\n",
        "\n",
        "folium.GeoJson(df_mundo,name=\"paises\", style_function=lambda x:style1).add_to(m)\n",
        "folium.GeoJson(df_rios,name=\"rios\", style_function=lambda x:style2).add_to(m)\n",
        "folium.GeoJson(top_rios_es,name=\"rios_es\").add_to(m)\n",
        "folium.PolyLine(puntos,name=\"Camino de Santiago\",color=\"red\").add_to(m)#paso los puntos obtenidos\n",
        "\n",
        "marker_cluster = MarkerCluster().add_to(m)\n",
        "for n in range (0,46):\n",
        "  lat=datos_montes.coordenadas[n].split(\",\")[0]\n",
        "  long=datos_montes[\"coordenadas\"][n].split(\",\")[1]\n",
        "  lat=float(lat)\n",
        "  long=float(long)\n",
        "  folium.Marker([lat,long],popup=(f'{datos_montes.nome[n]}'),icon=folium.Icon(color='gray',icon=\"glyphicon-pushpin\")).add_to(marker_cluster)\n",
        "    \n",
        "folium.LayerControl().add_to(m)\n",
        "m"
      ],
      "metadata": {
        "id": "hWMmmkogweCo"
      },
      "execution_count": null,
      "outputs": []
    },
    {
      "cell_type": "code",
      "source": [
        "m.save('/content/drive/MyDrive/COLAB/BDA/mapa_mihai.html')"
      ],
      "metadata": {
        "id": "t8fhUiCw0uoD"
      },
      "execution_count": 93,
      "outputs": []
    }
  ]
}